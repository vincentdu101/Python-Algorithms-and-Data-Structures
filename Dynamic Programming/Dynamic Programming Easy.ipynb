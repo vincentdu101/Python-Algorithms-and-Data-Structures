{
 "cells": [
  {
   "cell_type": "markdown",
   "metadata": {},
   "source": [
    "You are climbing a stair case. It takes n steps to reach to the top.\n",
    "\n",
    "Each time you can either climb 1 or 2 steps. In how many distinct ways can you climb to the top?\n",
    "\n",
    "Example 1:\n",
    "\n",
    "Input: 2\n",
    "Output: 2\n",
    "Explanation: There are two ways to climb to the top.\n",
    "1. 1 step + 1 step\n",
    "2. 2 steps"
   ]
  },
  {
   "cell_type": "code",
   "execution_count": 6,
   "metadata": {},
   "outputs": [
    {
     "name": "stdout",
     "output_type": "stream",
     "text": [
      "Climb Stairs: 2\n"
     ]
    }
   ],
   "source": [
    "def climbStairs(n) -> int:\n",
    "    # store the number of steps taken for each step\n",
    "    memory = dict()\n",
    "    \n",
    "    def recur_stairs(n) -> int: \n",
    "        # we recurse to see what the different types of combinations\n",
    "        # we can take before we reach 0 steps left\n",
    "        if n in memory:\n",
    "            result = memory.get(n)\n",
    "        elif n < 1:\n",
    "            # when we reach 0 steps it means we've reached the target\n",
    "            result = n + 1\n",
    "        else:\n",
    "            # recurse based on the different types of steps we can\n",
    "            # take\n",
    "            result = recur_stairs(n - 1) + recur_stairs(n - 2)\n",
    "        \n",
    "        # save the result for each step taken so that we can \n",
    "        # use memorization to access it for other step calculations\n",
    "        memory[n] = result\n",
    "        return result\n",
    "    \n",
    "    return recur_stairs(n)\n",
    "\n",
    "print(\"Climb Stairs:\", climbStairs(2))"
   ]
  },
  {
   "cell_type": "code",
   "execution_count": null,
   "metadata": {},
   "outputs": [],
   "source": []
  }
 ],
 "metadata": {
  "kernelspec": {
   "display_name": "Python 3",
   "language": "python",
   "name": "python3"
  },
  "language_info": {
   "codemirror_mode": {
    "name": "ipython",
    "version": 3
   },
   "file_extension": ".py",
   "mimetype": "text/x-python",
   "name": "python",
   "nbconvert_exporter": "python",
   "pygments_lexer": "ipython3",
   "version": "3.7.9"
  }
 },
 "nbformat": 4,
 "nbformat_minor": 4
}
