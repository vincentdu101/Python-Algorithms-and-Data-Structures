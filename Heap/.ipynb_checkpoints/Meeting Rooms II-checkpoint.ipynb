{
 "cells": [
  {
   "cell_type": "markdown",
   "metadata": {},
   "source": [
    "Given an array of meeting time intervals intervals where intervals[i] = [starti, endi], return the minimum number of conference rooms required.\n",
    "\n",
    " \n",
    "\n",
    "Example 1:\n",
    "\n",
    "Input: intervals = [[0,30],[5,10],[15,20]]\n",
    "Output: 2\n",
    "\n",
    "Example 2:\n",
    "\n",
    "Input: intervals = [[7,10],[2,4]]\n",
    "Output: 1\n",
    " \n",
    "\n",
    "Constraints:\n",
    "\n",
    "1 <= intervals.length <= 104\n",
    "0 <= starti < endi <= 106"
   ]
  },
  {
   "cell_type": "code",
   "execution_count": 8,
   "metadata": {},
   "outputs": [],
   "source": [
    "import heapq\n",
    "\n",
    "def minMeetingRooms(intervals): \n",
    "    # if there is no meeting to schedule then no rooms need\n",
    "    # to be allocated\n",
    "    if not intervals:\n",
    "        return 0\n",
    "    \n",
    "    # initialize heap\n",
    "    free_rooms = []\n",
    "    \n",
    "    # sort the meetings in increasing order of their start time\n",
    "    intervals.sort(key= lambda x : x[0])\n",
    "    \n",
    "    # add the first meeting, we have to give a new room\n",
    "    # to the first meeting\n",
    "    heapq.heappush(free_rooms, intervals[0][1])\n",
    "    \n",
    "    # for all the remaining meeting rooms\n",
    "    for i in intervals[1:]:\n",
    "        # if the earliest room to free up is free, assign \n",
    "        # that room to this meeting\n",
    "        # if end time of 1st room < start time of 2nd room\n",
    "        if free_rooms[0] <= i[0]:\n",
    "            heapq.heappop(free_rooms)\n",
    "            \n",
    "        # if a new room is to be assigned, then also add to\n",
    "        # the heap\n",
    "        # if an old room is allocated, then we have to also add \n",
    "        # it to the heap with an updated end time\n",
    "        heapq.heappush(free_rooms, i[1])\n",
    "        \n",
    "    # the size of the heap tells us the minimum rooms needed\n",
    "    # for all meetigs\n",
    "    return len(free_rooms)"
   ]
  },
  {
   "cell_type": "code",
   "execution_count": 9,
   "metadata": {},
   "outputs": [
    {
     "name": "stdout",
     "output_type": "stream",
     "text": [
      "Rooms Needed: 2\n"
     ]
    }
   ],
   "source": [
    "print(\"Rooms Needed: \" + str(minMeetingRooms([[0,30],[5,10],[15,20]])))"
   ]
  },
  {
   "cell_type": "code",
   "execution_count": null,
   "metadata": {},
   "outputs": [],
   "source": []
  }
 ],
 "metadata": {
  "kernelspec": {
   "display_name": "Python 3",
   "language": "python",
   "name": "python3"
  },
  "language_info": {
   "codemirror_mode": {
    "name": "ipython",
    "version": 3
   },
   "file_extension": ".py",
   "mimetype": "text/x-python",
   "name": "python",
   "nbconvert_exporter": "python",
   "pygments_lexer": "ipython3",
   "version": "3.7.9"
  }
 },
 "nbformat": 4,
 "nbformat_minor": 4
}
