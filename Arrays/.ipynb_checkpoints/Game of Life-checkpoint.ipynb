{
 "cells": [
  {
   "cell_type": "markdown",
   "metadata": {},
   "source": [
    "According to the Wikipedia's article: \"The Game of Life, also known simply as Life, is a cellular automaton devised by the British mathematician John Horton Conway in 1970.\"\n",
    "\n",
    "Given a board with m by n cells, each cell has an initial state live (1) or dead (0). Each cell interacts with its eight neighbors (horizontal, vertical, diagonal) using the following four rules (taken from the above Wikipedia article):\n",
    "\n",
    "Any live cell with fewer than two live neighbors dies, as if caused by under-population.\n",
    "Any live cell with two or three live neighbors lives on to the next generation.\n",
    "Any live cell with more than three live neighbors dies, as if by over-population..\n",
    "Any dead cell with exactly three live neighbors becomes a live cell, as if by reproduction.\n",
    "Write a function to compute the next state (after one update) of the board given its current state. The next state is created by applying the above rules simultaneously to every cell in the current state, where births and deaths occur simultaneously.\n",
    "\n",
    "Example:\n",
    "\n",
    "Input: \n",
    "[\n",
    "  [0,1,0],\n",
    "  [0,0,1],\n",
    "  [1,1,1],\n",
    "  [0,0,0]\n",
    "]\n",
    "Output: \n",
    "[\n",
    "  [0,0,0],\n",
    "  [1,0,1],\n",
    "  [0,1,1],\n",
    "  [0,1,0]\n",
    "]"
   ]
  },
  {
   "cell_type": "code",
   "execution_count": 10,
   "metadata": {},
   "outputs": [],
   "source": [
    "class Solution:\n",
    "    \n",
    "    def __init__(self, board):\n",
    "        self.gameOfLife(board)\n",
    "    \n",
    "    def gameOfLife(self, board) -> None:\n",
    "        # copy the original board, do a deep clone so we\n",
    "        # don't have any references, this will allow us\n",
    "        # to loop over the list as we modify it\n",
    "        copy = list()\n",
    "        for x, col in enumerate(board):\n",
    "            copy.append(col.copy())\n",
    "        \n",
    "        # loop over the copied board, which doesn't change\n",
    "        # despite board changing\n",
    "        for x, col in enumerate(copy):\n",
    "            for y, row in enumerate(col):\n",
    "                # interacts with neighbors and sees its impact\n",
    "                # based on that interaction\n",
    "                count = self.liveNeighbors(copy, x, y)\n",
    "                curr = copy[x][y]\n",
    "                \n",
    "                # if currently its alive, adjust based on its neighbors\n",
    "                if curr == 1:\n",
    "                    board[x][y] = 0 if count < 2 or count > 3 else 1\n",
    "                    \n",
    "                # if currently its not alive, adjust based on its neighbors\n",
    "                elif curr == 0:\n",
    "                    board[x][y] = 1 if count == 3 else 0\n",
    "    \n",
    "    # check to see if the target cell is still within the board\n",
    "    def withinBoard(self, copy, x, y) -> bool:\n",
    "        return x >= 0 and x < len(copy) and y >= 0 and y < len(copy[x])\n",
    "    \n",
    "    def liveNeighbors(self, copy, x, y) -> int:\n",
    "        # look at its neighboars to see if they're alive\n",
    "        top = self.withinBoard(copy, x - 1, y) and copy[x - 1][y] == 1\n",
    "        topLeft = self.withinBoard(copy, x - 1, y - 1) and copy[x - 1][y - 1] == 1\n",
    "        topRight = self.withinBoard(copy, x - 1, y + 1) and copy[x - 1][y + 1] == 1\n",
    "        left = self.withinBoard(copy, x, y - 1) and copy[x][y - 1] == 1\n",
    "        right = self.withinBoard(copy, x, y + 1) and copy[x][y + 1] == 1\n",
    "        bottom = self.withinBoard(copy, x + 1, y) and copy[x + 1][y] == 1\n",
    "        bottomLeft = self.withinBoard(copy, x + 1, y - 1) and copy[x + 1][y - 1] == 1\n",
    "        bottomRight = self.withinBoard(copy, x + 1, y + 1) and copy[x + 1][y + 1] == 1\n",
    "        \n",
    "        # count the number of neighbors that are alive\n",
    "        count = 0\n",
    "        count += 1 if top is True else 0\n",
    "        count += 1 if topLeft is True else 0\n",
    "        count += 1 if topRight is True else 0\n",
    "        count += 1 if left is True else 0\n",
    "        count += 1 if right is True else 0\n",
    "        count += 1 if bottom is True else 0\n",
    "        count += 1 if bottomLeft is True else 0\n",
    "        count += 1 if bottomRight is True else 0\n",
    "        \n",
    "        return count        \n",
    "        "
   ]
  },
  {
   "cell_type": "code",
   "execution_count": 12,
   "metadata": {},
   "outputs": [],
   "source": [
    "board = [[0,1,0], [0,0,1], [1,1,1], [0,0,0]]\n",
    "solution = Solution(board)"
   ]
  },
  {
   "cell_type": "code",
   "execution_count": 15,
   "metadata": {},
   "outputs": [
    {
     "name": "stdout",
     "output_type": "stream",
     "text": [
      "Next state: [[0, 0, 0], [1, 0, 1], [0, 1, 1], [0, 1, 0]]\n"
     ]
    }
   ],
   "source": [
    "print(\"Next state:\", board)"
   ]
  },
  {
   "cell_type": "code",
   "execution_count": null,
   "metadata": {},
   "outputs": [],
   "source": []
  }
 ],
 "metadata": {
  "kernelspec": {
   "display_name": "Python 3",
   "language": "python",
   "name": "python3"
  },
  "language_info": {
   "codemirror_mode": {
    "name": "ipython",
    "version": 3
   },
   "file_extension": ".py",
   "mimetype": "text/x-python",
   "name": "python",
   "nbconvert_exporter": "python",
   "pygments_lexer": "ipython3",
   "version": "3.7.9"
  }
 },
 "nbformat": 4,
 "nbformat_minor": 4
}
