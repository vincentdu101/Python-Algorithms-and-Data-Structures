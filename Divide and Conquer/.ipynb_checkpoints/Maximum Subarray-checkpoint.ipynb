{
 "cells": [
  {
   "cell_type": "markdown",
   "metadata": {},
   "source": [
    "Given an integer array nums, find the contiguous subarray (containing at least one number) which has the largest sum and return its sum.\n",
    "\n",
    "Example 1:\n",
    "\n",
    "Input: nums = [-2,1,-3,4,-1,2,1,-5,4]\n",
    "Output: 6\n",
    "Explanation: [4,-1,2,1] has the largest sum = 6.\n",
    "\n",
    "Example 2:\n",
    "\n",
    "Input: nums = [1]\n",
    "Output: 1\n",
    "\n",
    "Example 3:\n",
    "\n",
    "Input: nums = [5,4,-1,7,8]\n",
    "Output: 23\n",
    " \n",
    "\n",
    "Constraints:\n",
    "\n",
    "1 <= nums.length <= 3 * 104\n",
    "-105 <= nums[i] <= 105\n",
    " \n",
    "\n",
    "Follow up: If you have figured out the O(n) solution, try coding another solution using the divide and conquer approach, which is more subtle."
   ]
  },
  {
   "cell_type": "code",
   "execution_count": 5,
   "metadata": {},
   "outputs": [],
   "source": [
    "def maxSubArray(nums):\n",
    "    def findBestSubarray(nums, left, right):\n",
    "        # base case - empty array\n",
    "        if left > right:\n",
    "            return 0\n",
    "        \n",
    "        mid = (left + right) // 2\n",
    "        curr = best_left_sum = best_right_sum = 0\n",
    "        \n",
    "        # iterate from the middle to the beginning\n",
    "        for i in range(mid - 1, left - 1, -1):\n",
    "            curr += nums[i]\n",
    "            best_left_sum = max(best_left_sum, curr)\n",
    "            \n",
    "        # reset curr and iterate from the middle to the end \n",
    "        curr = 0\n",
    "        for i in range(mid + 1, right + 1):\n",
    "            curr += nums[i]\n",
    "            best_right_sum = max(best_right_sum, curr)\n",
    "            \n",
    "        # the best combined_sum uses the middle element and\n",
    "        # the best possible sum from each half\n",
    "        best_combined_sum = nums[mid] + best_left_sum + best_right_sum\n",
    "        \n",
    "        # find the best subarray possible from both halves\n",
    "        left_half = findBestSubarray(nums, left, mid - 1)\n",
    "        right_half = findBestSubarray(nums, mid + 1, right)\n",
    "        \n",
    "        # the largest of the 3 is the answer for any given input array\n",
    "        return max(best_combined_sum, left_half, right_half)\n",
    "    \n",
    "    # our helper function is designed to solve this problem for \n",
    "    # any array, so just call it using the entire input\n",
    "    return findBestSubarray(nums, 0, len(nums) - 1)"
   ]
  },
  {
   "cell_type": "code",
   "execution_count": 6,
   "metadata": {},
   "outputs": [
    {
     "name": "stdout",
     "output_type": "stream",
     "text": [
      "Sum: 6\n"
     ]
    }
   ],
   "source": [
    "print(\"Sum: \" + str(maxSubArray([-2,1,-3,4,-1,2,1,-5,4])))"
   ]
  },
  {
   "cell_type": "code",
   "execution_count": null,
   "metadata": {},
   "outputs": [],
   "source": []
  }
 ],
 "metadata": {
  "kernelspec": {
   "display_name": "Python 3",
   "language": "python",
   "name": "python3"
  },
  "language_info": {
   "codemirror_mode": {
    "name": "ipython",
    "version": 3
   },
   "file_extension": ".py",
   "mimetype": "text/x-python",
   "name": "python",
   "nbconvert_exporter": "python",
   "pygments_lexer": "ipython3",
   "version": "3.7.9"
  }
 },
 "nbformat": 4,
 "nbformat_minor": 4
}
